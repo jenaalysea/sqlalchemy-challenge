{
 "cells": [
  {
   "cell_type": "code",
   "execution_count": 1,
   "metadata": {},
   "outputs": [],
   "source": [
    "%matplotlib inline\n",
    "from matplotlib import style\n",
    "style.use('fivethirtyeight')\n",
    "import matplotlib.pyplot as plt"
   ]
  },
  {
   "cell_type": "code",
   "execution_count": 2,
   "metadata": {},
   "outputs": [],
   "source": [
    "import numpy as np\n",
    "import pandas as pd\n",
    "import datetime as dt\n",
    "import datetime as timedelta\n",
    "from sqlalchemy import func\n",
    "from datetime import datetime as dt_datetime, timedelta"
   ]
  },
  {
   "cell_type": "markdown",
   "metadata": {},
   "source": [
    "# Reflect Tables into SQLAlchemy ORM"
   ]
  },
  {
   "cell_type": "code",
   "execution_count": 3,
   "metadata": {},
   "outputs": [],
   "source": [
    "# Python SQL toolkit and Object Relational Mapper\n",
    "import sqlalchemy\n",
    "from sqlalchemy.ext.automap import automap_base\n",
    "from sqlalchemy.orm import Session\n",
    "from sqlalchemy import create_engine, func"
   ]
  },
  {
   "cell_type": "code",
   "execution_count": 4,
   "metadata": {},
   "outputs": [],
   "source": [
    "# create engine to hawaii.sqlite\n",
    "engine = create_engine(\"sqlite:///Resources/hawaii.sqlite\")"
   ]
  },
  {
   "cell_type": "code",
   "execution_count": 5,
   "metadata": {},
   "outputs": [],
   "source": [
    "# reflect an existing database into a new model\n",
    "Base = automap_base()\n",
    "Base.prepare(autoload_with=engine)\n",
    "\n",
    "# reflect the tables\n",
    "table1 = {}\n",
    "table2 = {}"
   ]
  },
  {
   "cell_type": "code",
   "execution_count": 6,
   "metadata": {},
   "outputs": [
    {
     "data": {
      "text/plain": [
       "['measurement', 'station']"
      ]
     },
     "execution_count": 6,
     "metadata": {},
     "output_type": "execute_result"
    }
   ],
   "source": [
    "# View all of the classes that automap found\n",
    "Base.classes.keys()"
   ]
  },
  {
   "cell_type": "code",
   "execution_count": 7,
   "metadata": {},
   "outputs": [],
   "source": [
    "# Save references to each table\n",
    "for measurement_table in Base.classes.keys():\n",
    "    table1[measurement_table] = Base.classes.get(measurement_table)\n",
    "\n",
    "for station_table in Base.classes.keys():\n",
    "    table2[station_table] = Base.classes.get(station_table)\n",
    "\n",
    "Measurement = Base.classes.measurement\n",
    "Station = Base.classes.station"
   ]
  },
  {
   "cell_type": "code",
   "execution_count": 8,
   "metadata": {},
   "outputs": [],
   "source": [
    "# Create our session (link) from Python to the DB\n",
    "session = Session(engine)"
   ]
  },
  {
   "cell_type": "markdown",
   "metadata": {},
   "source": [
    "# Exploratory Precipitation Analysis"
   ]
  },
  {
   "cell_type": "code",
   "execution_count": 9,
   "metadata": {},
   "outputs": [
    {
     "data": {
      "text/plain": [
       "('2017-08-23',)"
      ]
     },
     "execution_count": 9,
     "metadata": {},
     "output_type": "execute_result"
    }
   ],
   "source": [
    "# Find the most recent date in the data set.\n",
    "most_recent_date = session.query(func.max(Measurement.date)).first()\n",
    "most_recent_date"
   ]
  },
  {
   "cell_type": "code",
   "execution_count": 10,
   "metadata": {},
   "outputs": [
    {
     "data": {
      "image/png": "[encoded data removed]",
      "text/plain": [
       "<Figure size 1000x600 with 1 Axes>"
      ]
     },
     "metadata": {},
     "output_type": "display_data"
    }
   ],
   "source": [
    "# Design a query to retrieve the last 12 months of precipitation data\n",
    "# Starting from the most recent data point in the database.\n",
    "\n",
    "# Find the most recent date in the dataset\n",
    "date = dt_datetime(2017, 8, 23)\n",
    "\n",
    "# Calculate the date one year from the last date in the dataset\n",
    "most_recent_date = session.query(func.max(Measurement.date)).scalar()\n",
    "one_year_before = dt_datetime.strptime(most_recent_date, \"%Y-%m-%d\") - timedelta(days=365)\n",
    "\n",
    "# Perform a query to retrieve the data and precipitation scores directly into a DataFrame\n",
    "result = session.query(\n",
    "    func.max(Measurement.prcp),\n",
    "    func.max(Measurement.date)\n",
    ").filter(Measurement.date >= one_year_before).group_by(Measurement.date).all()\n",
    "\n",
    "\n",
    "# Create a DataFrame from the result\n",
    "column_names = ['Average Precipitation', 'Date']\n",
    "df = pd.DataFrame(result, columns=column_names)\n",
    "\n",
    "# Sort the DataFrame by date\n",
    "df['Date'] = pd.to_datetime(df['Date'])\n",
    "df = df.sort_values(by='Date')\n",
    "\n",
    "# Use Pandas Plotting with Matplotlib to plot the data\n",
    "plt.figure(figsize=(10, 6))\n",
    "plt.bar(df['Date'], df['Average Precipitation'], width=0.8, label='Precipitation')\n",
    "plt.xlabel('Date')\n",
    "plt.ylabel('Inches')\n",
    "plt.xticks(rotation=45)\n",
    "plt.legend()\n",
    "plt.tight_layout()\n",
    "plt.show()"
   ]
  },
  {
   "cell_type": "code",
   "execution_count": 11,
   "metadata": {},
   "outputs": [
    {
     "name": "stdout",
     "output_type": "stream",
     "text": [
      "count     365.000000\n",
      "mean        0.517288\n",
      "std         0.829196\n",
      "min         0.000000\n",
      "25%         0.040000\n",
      "median      0.250000\n",
      "75%         0.650000\n",
      "max         6.700000\n",
      "Name: Average Precipitation, dtype: float64\n"
     ]
    }
   ],
   "source": [
    "# Use Pandas to calculate the summary statistics for the precipitation data\n",
    "summary_statistics = df['Average Precipitation'].agg(['count', 'mean', 'std', 'min', lambda x: x.quantile(0.25), 'median', lambda x: x.quantile(0.75), 'max'])\n",
    "summary_statistics.index = ['count', 'mean', 'std', 'min', '25%', 'median', '75%', 'max']\n",
    "\n",
    "print(summary_statistics)\n"
   ]
  },
  {
   "cell_type": "markdown",
   "metadata": {},
   "source": [
    "# Exploratory Station Analysis"
   ]
  },
  {
   "cell_type": "code",
   "execution_count": 13,
   "metadata": {},
   "outputs": [
    {
     "name": "stdout",
     "output_type": "stream",
     "text": [
      "9\n"
     ]
    }
   ],
   "source": [
    "# Design a query to calculate the total number of stations in the dataset\n",
    "station_numbers = session.query(func.count(Station.station)).scalar()\n",
    "print(station_numbers)"
   ]
  },
  {
   "cell_type": "code",
   "execution_count": 19,
   "metadata": {},
   "outputs": [
    {
     "name": "stdout",
     "output_type": "stream",
     "text": [
      "Station: USC00519281, Count: 2772\n",
      "Station: USC00519397, Count: 2724\n",
      "Station: USC00513117, Count: 2709\n",
      "Station: USC00519523, Count: 2669\n",
      "Station: USC00516128, Count: 2612\n",
      "Station: USC00514830, Count: 2202\n",
      "Station: USC00511918, Count: 1979\n",
      "Station: USC00517948, Count: 1372\n",
      "Station: USC00518838, Count: 511\n"
     ]
    }
   ],
   "source": [
    "# Design a query to find the most active stations (i.e. which stations have the most rows?)\n",
    "# List the stations and their counts in descending order.\n",
    "\n",
    "station_type_count = session.query(\n",
    "    Measurement.station,\n",
    "    func.count(Measurement.station)\n",
    ").group_by(Measurement.station).order_by(func.count(Measurement.station).desc()).all()\n",
    "\n",
    "for station, count in station_type_count:\n",
    "    print(f\"Station: {station}, Count: {count}\")"
   ]
  },
  {
   "cell_type": "code",
   "execution_count": 22,
   "metadata": {},
   "outputs": [
    {
     "name": "stdout",
     "output_type": "stream",
     "text": [
      "[(54.0, 85.0, 71.66378066378067)]\n"
     ]
    }
   ],
   "source": [
    "# Using the most active station id from the previous query, calculate the lowest, highest, and average temperature.\n",
    "\n",
    "most_active_station_id = station_type_count[0][0]\n",
    "\n",
    "temperature_data = session.query(\n",
    "    Measurement.date,\n",
    "    Measurement.tobs\n",
    ").filter(\n",
    "    Measurement.station == most_active_station_id,\n",
    "    Measurement.date >= one_year_before\n",
    ").all()\n",
    "\n",
    "print(result)"
   ]
  },
  {
   "cell_type": "code",
   "execution_count": 24,
   "metadata": {},
   "outputs": [
    {
     "data": {
      "image/png": "[encoded data removed]",
      "text/plain": [
       "<Figure size 1000x600 with 1 Axes>"
      ]
     },
     "metadata": {},
     "output_type": "display_data"
    }
   ],
   "source": [
    "# Using the most active station id\n",
    "# Query the last 12 months of temperature observation data for this station and plot the results as a histogram\n",
    "\n",
    "column_names = ['Date', 'Temperature']\n",
    "df = pd.DataFrame(temperature_data, columns=column_names)\n",
    "\n",
    "plt.figure(figsize=(10, 6))\n",
    "plt.hist(df['Temperature'], bins=12, label='tobs', alpha=0.7)\n",
    "plt.xlabel('Temperature')\n",
    "plt.ylabel('Frequency')\n",
    "plt.legend()\n",
    "plt.tight_layout()\n",
    "plt.show()"
   ]
  },
  {
   "cell_type": "markdown",
   "metadata": {},
   "source": [
    "# Close Session"
   ]
  },
  {
   "cell_type": "code",
   "execution_count": 25,
   "metadata": {},
   "outputs": [],
   "source": [
    "# Close Session\n",
    "session.close()"
   ]
  }
 ],
 "metadata": {
  "anaconda-cloud": {},
  "kernel_info": {
   "name": "python3"
  },
  "kernelspec": {
   "display_name": "Python 3 (ipykernel)",
   "language": "python",
   "name": "python3"
  },
  "language_info": {
   "codemirror_mode": {
    "name": "ipython",
    "version": 3
   },
   "file_extension": ".py",
   "mimetype": "text/x-python",
   "name": "python",
   "nbconvert_exporter": "python",
   "pygments_lexer": "ipython3",
   "version": "3.11.5"
  },
  "nteract": {
   "version": "0.12.3"
  },
  "varInspector": {
   "cols": {
    "lenName": 16,
    "lenType": 16,
    "lenVar": 40
   },
   "kernels_config": {
    "python": {
     "delete_cmd_postfix": "",
     "delete_cmd_prefix": "del ",
     "library": "var_list.py",
     "varRefreshCmd": "print(var_dic_list())"
    },
    "r": {
     "delete_cmd_postfix": ") ",
     "delete_cmd_prefix": "rm(",
     "library": "var_list.r",
     "varRefreshCmd": "cat(var_dic_list()) "
    }
   },
   "types_to_exclude": [
    "module",
    "function",
    "builtin_function_or_method",
    "instance",
    "_Feature"
   ],
   "window_display": false
  }
 },
 "nbformat": 4,
 "nbformat_minor": 4
}
